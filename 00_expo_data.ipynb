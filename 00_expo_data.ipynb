{
 "cells": [
  {
   "cell_type": "markdown",
   "id": "41751f69-cdeb-4643-86ba-f596c0136689",
   "metadata": {},
   "source": [
    "A quick and brief look at our data before we jump into modeling"
   ]
  },
  {
   "cell_type": "code",
   "execution_count": 2,
   "id": "8dd57927-e923-4b0e-9351-b3ef87997be7",
   "metadata": {},
   "outputs": [],
   "source": [
    "from fastai.vision.all import *"
   ]
  },
  {
   "cell_type": "code",
   "execution_count": 3,
   "id": "446a7395-888d-410b-a0d0-76876d5d7ddf",
   "metadata": {},
   "outputs": [
    {
     "data": {
      "text/plain": [
       "(#5) [Path('data/train_images'),Path('data/train.csv'),Path('data/paddy-disease-classification.zip'),Path('data/test_images'),Path('data/sample_submission.csv')]"
      ]
     },
     "execution_count": 3,
     "metadata": {},
     "output_type": "execute_result"
    }
   ],
   "source": [
    "path = Path('../paddy_doctor')\n",
    "Path.BASE_PATH = path\n",
    "(path/'data').ls()"
   ]
  },
  {
   "cell_type": "code",
   "execution_count": 4,
   "id": "b413dbaf-7c54-4a77-a65c-3f76fe12cc0f",
   "metadata": {},
   "outputs": [
    {
     "data": {
      "text/plain": [
       "(10407, 4)"
      ]
     },
     "execution_count": 4,
     "metadata": {},
     "output_type": "execute_result"
    }
   ],
   "source": [
    "train_df = pd.read_csv(path/'data/train.csv')\n",
    "train_df.shape"
   ]
  },
  {
   "cell_type": "code",
   "execution_count": 5,
   "id": "7ca88653-9d44-4d6a-be2c-3e4f1504ed53",
   "metadata": {},
   "outputs": [
    {
     "data": {
      "text/html": [
       "<div>\n",
       "<style scoped>\n",
       "    .dataframe tbody tr th:only-of-type {\n",
       "        vertical-align: middle;\n",
       "    }\n",
       "\n",
       "    .dataframe tbody tr th {\n",
       "        vertical-align: top;\n",
       "    }\n",
       "\n",
       "    .dataframe thead th {\n",
       "        text-align: right;\n",
       "    }\n",
       "</style>\n",
       "<table border=\"1\" class=\"dataframe\">\n",
       "  <thead>\n",
       "    <tr style=\"text-align: right;\">\n",
       "      <th></th>\n",
       "      <th>image_id</th>\n",
       "      <th>label</th>\n",
       "      <th>variety</th>\n",
       "      <th>age</th>\n",
       "    </tr>\n",
       "  </thead>\n",
       "  <tbody>\n",
       "    <tr>\n",
       "      <th>0</th>\n",
       "      <td>100330.jpg</td>\n",
       "      <td>bacterial_leaf_blight</td>\n",
       "      <td>ADT45</td>\n",
       "      <td>45</td>\n",
       "    </tr>\n",
       "    <tr>\n",
       "      <th>1</th>\n",
       "      <td>100365.jpg</td>\n",
       "      <td>bacterial_leaf_blight</td>\n",
       "      <td>ADT45</td>\n",
       "      <td>45</td>\n",
       "    </tr>\n",
       "  </tbody>\n",
       "</table>\n",
       "</div>"
      ],
      "text/plain": [
       "     image_id                  label variety  age\n",
       "0  100330.jpg  bacterial_leaf_blight   ADT45   45\n",
       "1  100365.jpg  bacterial_leaf_blight   ADT45   45"
      ]
     },
     "execution_count": 5,
     "metadata": {},
     "output_type": "execute_result"
    }
   ],
   "source": [
    "train_df.head(2)"
   ]
  },
  {
   "cell_type": "code",
   "execution_count": 15,
   "id": "1757a00b-737f-4dab-a82a-b1236a70390e",
   "metadata": {},
   "outputs": [
    {
     "data": {
      "text/plain": [
       "True"
      ]
     },
     "execution_count": 15,
     "metadata": {},
     "output_type": "execute_result"
    }
   ],
   "source": [
    "#lets check if there are any duplicate image ids\n",
    "len(train_df.image_id.unique()) == len(train_df)"
   ]
  },
  {
   "cell_type": "code",
   "execution_count": 25,
   "id": "1b40205b-9339-42f8-b03b-d054710d3dbf",
   "metadata": {},
   "outputs": [
    {
     "data": {
      "text/plain": [
       "({(480, 640), (640, 480)},\n",
       " (480, 640)    10403\n",
       " (640, 480)        4\n",
       " dtype: int64)"
      ]
     },
     "execution_count": 25,
     "metadata": {},
     "output_type": "execute_result"
    }
   ],
   "source": [
    "train_df['path'] = str(path) + '/data/train_images/' \\\n",
    "            + train_df['label'] + '/' \\\n",
    "            + train_df['image_id']\n",
    "img_sizes = [Image.open(path).size for path in train_df['path']]\n",
    "set(img_sizes), pd.Series(img_sizes).value_counts()"
   ]
  },
  {
   "cell_type": "markdown",
   "id": "5fd65200-4cff-4202-b383-153f3be84085",
   "metadata": {},
   "source": [
    "Almost all of our images are 480x640 -- but there are 4 that have a different orientation, might be worth keeping in mind. I think some items being used are faster when the image sizes are all the same"
   ]
  },
  {
   "cell_type": "code",
   "execution_count": 19,
   "id": "8030581f-3f2e-4ba2-aaae-bfac54476a1b",
   "metadata": {},
   "outputs": [
    {
     "data": {
      "text/plain": [
       "(480, 640)"
      ]
     },
     "execution_count": 19,
     "metadata": {},
     "output_type": "execute_result"
    }
   ],
   "source": [
    "Image.open(train_df.path[0]).size"
   ]
  },
  {
   "cell_type": "code",
   "execution_count": 9,
   "id": "eddc2b9a-7b98-41fd-b3bd-fe0ddd374b5a",
   "metadata": {},
   "outputs": [
    {
     "data": {
      "text/plain": [
       "normal                      1764\n",
       "blast                       1738\n",
       "hispa                       1594\n",
       "dead_heart                  1442\n",
       "tungro                      1088\n",
       "brown_spot                   965\n",
       "downy_mildew                 620\n",
       "bacterial_leaf_blight        479\n",
       "bacterial_leaf_streak        380\n",
       "bacterial_panicle_blight     337\n",
       "Name: label, dtype: int64"
      ]
     },
     "execution_count": 9,
     "metadata": {},
     "output_type": "execute_result"
    }
   ],
   "source": [
    "train_df.label.value_counts()"
   ]
  },
  {
   "cell_type": "code",
   "execution_count": 10,
   "id": "14c9e2a1-83e8-4467-8dd8-bde73708fb6c",
   "metadata": {},
   "outputs": [
    {
     "data": {
      "text/plain": [
       "ADT45             6992\n",
       "KarnatakaPonni     988\n",
       "Ponni              657\n",
       "AtchayaPonni       461\n",
       "Zonal              399\n",
       "AndraPonni         377\n",
       "Onthanel           351\n",
       "IR20               114\n",
       "RR                  36\n",
       "Surya               32\n",
       "Name: variety, dtype: int64"
      ]
     },
     "execution_count": 10,
     "metadata": {},
     "output_type": "execute_result"
    }
   ],
   "source": [
    "train_df.variety.value_counts()"
   ]
  },
  {
   "cell_type": "code",
   "execution_count": 12,
   "id": "8a9c6bd3-f1e0-4d55-a526-8141bc772e5c",
   "metadata": {},
   "outputs": [
    {
     "data": {
      "text/plain": [
       "70    3077\n",
       "60    1660\n",
       "50    1066\n",
       "75     866\n",
       "65     774\n",
       "55     563\n",
       "72     552\n",
       "45     505\n",
       "67     415\n",
       "68     253\n",
       "80     225\n",
       "57     213\n",
       "47     112\n",
       "77      42\n",
       "73      38\n",
       "66      36\n",
       "62       5\n",
       "82       5\n",
       "Name: age, dtype: int64"
      ]
     },
     "execution_count": 12,
     "metadata": {},
     "output_type": "execute_result"
    }
   ],
   "source": [
    "#70 years old???\n",
    "train_df.age.value_counts()"
   ]
  },
  {
   "cell_type": "markdown",
   "id": "2491bfb2-99d5-452e-8d61-bbdc43c1fe04",
   "metadata": {},
   "source": [
    "The age and variety text fields can be added to a multi-modal model, but won't help with our image based model coming up next "
   ]
  },
  {
   "cell_type": "code",
   "execution_count": null,
   "id": "90ce0f6b-3fa3-45e0-b865-163911fbc8af",
   "metadata": {},
   "outputs": [],
   "source": []
  }
 ],
 "metadata": {
  "kernelspec": {
   "display_name": "Python 3 (ipykernel)",
   "language": "python",
   "name": "python3"
  },
  "language_info": {
   "codemirror_mode": {
    "name": "ipython",
    "version": 3
   },
   "file_extension": ".py",
   "mimetype": "text/x-python",
   "name": "python",
   "nbconvert_exporter": "python",
   "pygments_lexer": "ipython3",
   "version": "3.8.3"
  }
 },
 "nbformat": 4,
 "nbformat_minor": 5
}
