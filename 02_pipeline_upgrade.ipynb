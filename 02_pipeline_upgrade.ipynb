{
 "cells": [
  {
   "cell_type": "markdown",
   "id": "6721babc-0461-4fc8-9f5d-48e93389482e",
   "metadata": {},
   "source": [
    "In this notebook we'll flesh our where we can abstract things away (into their own files), improve the extensibility and add some neat things to improve our ability to prototype (like weights and biases)"
   ]
  },
  {
   "cell_type": "code",
   "execution_count": 1,
   "id": "8dd57927-e923-4b0e-9351-b3ef87997be7",
   "metadata": {},
   "outputs": [],
   "source": [
    "from fastai.vision.all import *\n",
    "from utils import *"
   ]
  },
  {
   "cell_type": "code",
   "execution_count": 3,
   "id": "368afcc2-128b-4cbc-87e6-458bfa231e5e",
   "metadata": {},
   "outputs": [],
   "source": [
    "train_df, sub_df = get_dfs()\n",
    "dls = get_dls(train_df, bs=64);\n",
    "#dls.show_batch(max_n=6);"
   ]
  },
  {
   "cell_type": "code",
   "execution_count": 4,
   "id": "f7f03c10-ab5e-480b-8db1-61740357d56f",
   "metadata": {},
   "outputs": [],
   "source": [
    "model_name = 'convnext_base'\n",
    "learner = create_learner(dls, model_name=model_name).to_fp16()"
   ]
  },
  {
   "cell_type": "code",
   "execution_count": 5,
   "id": "de0cee59-dd24-4de2-9c39-3c7947f7df0a",
   "metadata": {},
   "outputs": [
    {
     "data": {
      "text/html": [
       "<table border=\"1\" class=\"dataframe\">\n",
       "  <thead>\n",
       "    <tr style=\"text-align: left;\">\n",
       "      <th>epoch</th>\n",
       "      <th>train_loss</th>\n",
       "      <th>valid_loss</th>\n",
       "      <th>accuracy</th>\n",
       "      <th>time</th>\n",
       "    </tr>\n",
       "  </thead>\n",
       "  <tbody>\n",
       "    <tr>\n",
       "      <td>0</td>\n",
       "      <td>1.021924</td>\n",
       "      <td>0.717575</td>\n",
       "      <td>0.763095</td>\n",
       "      <td>00:56</td>\n",
       "    </tr>\n",
       "  </tbody>\n",
       "</table>"
      ],
      "text/plain": [
       "<IPython.core.display.HTML object>"
      ]
     },
     "metadata": {},
     "output_type": "display_data"
    },
    {
     "data": {
      "text/html": [
       "<table border=\"1\" class=\"dataframe\">\n",
       "  <thead>\n",
       "    <tr style=\"text-align: left;\">\n",
       "      <th>epoch</th>\n",
       "      <th>train_loss</th>\n",
       "      <th>valid_loss</th>\n",
       "      <th>accuracy</th>\n",
       "      <th>time</th>\n",
       "    </tr>\n",
       "  </thead>\n",
       "  <tbody>\n",
       "    <tr>\n",
       "      <td>0</td>\n",
       "      <td>0.330589</td>\n",
       "      <td>0.283131</td>\n",
       "      <td>0.913023</td>\n",
       "      <td>00:56</td>\n",
       "    </tr>\n",
       "    <tr>\n",
       "      <td>1</td>\n",
       "      <td>0.246656</td>\n",
       "      <td>0.222099</td>\n",
       "      <td>0.937050</td>\n",
       "      <td>00:58</td>\n",
       "    </tr>\n",
       "    <tr>\n",
       "      <td>2</td>\n",
       "      <td>0.256539</td>\n",
       "      <td>0.260480</td>\n",
       "      <td>0.915906</td>\n",
       "      <td>00:56</td>\n",
       "    </tr>\n",
       "    <tr>\n",
       "      <td>3</td>\n",
       "      <td>0.193060</td>\n",
       "      <td>0.184519</td>\n",
       "      <td>0.942335</td>\n",
       "      <td>00:56</td>\n",
       "    </tr>\n",
       "    <tr>\n",
       "      <td>4</td>\n",
       "      <td>0.152685</td>\n",
       "      <td>0.157338</td>\n",
       "      <td>0.956271</td>\n",
       "      <td>00:55</td>\n",
       "    </tr>\n",
       "    <tr>\n",
       "      <td>5</td>\n",
       "      <td>0.097100</td>\n",
       "      <td>0.106628</td>\n",
       "      <td>0.967323</td>\n",
       "      <td>00:56</td>\n",
       "    </tr>\n",
       "    <tr>\n",
       "      <td>6</td>\n",
       "      <td>0.067475</td>\n",
       "      <td>0.104174</td>\n",
       "      <td>0.969726</td>\n",
       "      <td>00:56</td>\n",
       "    </tr>\n",
       "    <tr>\n",
       "      <td>7</td>\n",
       "      <td>0.043214</td>\n",
       "      <td>0.071732</td>\n",
       "      <td>0.977895</td>\n",
       "      <td>00:56</td>\n",
       "    </tr>\n",
       "    <tr>\n",
       "      <td>8</td>\n",
       "      <td>0.025066</td>\n",
       "      <td>0.072480</td>\n",
       "      <td>0.978856</td>\n",
       "      <td>00:56</td>\n",
       "    </tr>\n",
       "    <tr>\n",
       "      <td>9</td>\n",
       "      <td>0.019073</td>\n",
       "      <td>0.071043</td>\n",
       "      <td>0.979337</td>\n",
       "      <td>00:56</td>\n",
       "    </tr>\n",
       "  </tbody>\n",
       "</table>"
      ],
      "text/plain": [
       "<IPython.core.display.HTML object>"
      ]
     },
     "metadata": {},
     "output_type": "display_data"
    }
   ],
   "source": [
    "learner.fine_tune(10)"
   ]
  },
  {
   "cell_type": "code",
   "execution_count": 8,
   "id": "8003869c-1361-4a37-b591-ed587067c34e",
   "metadata": {},
   "outputs": [],
   "source": [
    "learner.save('cnext_base_10ep');"
   ]
  },
  {
   "cell_type": "code",
   "execution_count": 6,
   "id": "3bb5080f-e8cc-48fc-9dd7-63f91664857b",
   "metadata": {},
   "outputs": [],
   "source": [
    "test_dl = learner.dls.test_dl(sub_df)"
   ]
  },
  {
   "cell_type": "code",
   "execution_count": 11,
   "id": "9aac9445-dd79-4ca7-b709-af24f62287ed",
   "metadata": {},
   "outputs": [
    {
     "data": {
      "text/html": [
       "\n",
       "    <div>\n",
       "        <style>\n",
       "            /* Turns off some styling */\n",
       "            progress {\n",
       "                /* gets rid of default border in Firefox and Opera. */\n",
       "                border: none;\n",
       "                /* Needs to be in here for Safari polyfill so background images work as expected. */\n",
       "                background-size: auto;\n",
       "            }\n",
       "            .progress-bar-interrupted, .progress-bar-interrupted::-webkit-progress-bar {\n",
       "                background: #F44336;\n",
       "            }\n",
       "        </style>\n",
       "      <progress value='0' class='' max='10' style='width:300px; height:20px; vertical-align: middle;'></progress>\n",
       "      \n",
       "    </div>\n",
       "    \n"
      ],
      "text/plain": [
       "<IPython.core.display.HTML object>"
      ]
     },
     "metadata": {},
     "output_type": "display_data"
    },
    {
     "data": {
      "text/html": [],
      "text/plain": [
       "<IPython.core.display.HTML object>"
      ]
     },
     "metadata": {},
     "output_type": "display_data"
    }
   ],
   "source": [
    "tta_preds = learner.tta(dl=test_dl)"
   ]
  },
  {
   "cell_type": "code",
   "execution_count": 12,
   "id": "a6de978d-ac70-4eca-a557-3816d929cbca",
   "metadata": {},
   "outputs": [],
   "source": [
    "#test_preds = learner.get_preds(dl=test_dl)"
   ]
  },
  {
   "cell_type": "code",
   "execution_count": 17,
   "id": "8ba2c619-6d8c-417e-85d6-4c5de2b9a598",
   "metadata": {},
   "outputs": [
    {
     "data": {
      "text/plain": [
       "(3469, torch.Size([3469, 10]), None)"
      ]
     },
     "execution_count": 17,
     "metadata": {},
     "output_type": "execute_result"
    }
   ],
   "source": [
    "len(sub_df), tta_preds[0].shape, tta_preds[1]"
   ]
  },
  {
   "cell_type": "code",
   "execution_count": 68,
   "id": "21891af5-5c12-4059-ab79-84d9c6c32ef6",
   "metadata": {},
   "outputs": [],
   "source": [
    "vocab = list(dls.vocab);\n",
    "vocab_dict = {idx:lbl for idx,lbl in list(enumerate(vocab))}"
   ]
  },
  {
   "cell_type": "code",
   "execution_count": 71,
   "id": "441c3097-dd74-4d90-87f7-5171a690eccd",
   "metadata": {},
   "outputs": [],
   "source": [
    "sub_df['label'] = pd.Series(tta_preds[0].argmax(dim=1)).map(vocab_dict)\n",
    "sub_df = sub_df[['image_id','label']]"
   ]
  },
  {
   "cell_type": "code",
   "execution_count": 72,
   "id": "cba2517f-beab-4be9-84e7-b336284ac434",
   "metadata": {},
   "outputs": [
    {
     "data": {
      "text/html": [
       "<div>\n",
       "<style scoped>\n",
       "    .dataframe tbody tr th:only-of-type {\n",
       "        vertical-align: middle;\n",
       "    }\n",
       "\n",
       "    .dataframe tbody tr th {\n",
       "        vertical-align: top;\n",
       "    }\n",
       "\n",
       "    .dataframe thead th {\n",
       "        text-align: right;\n",
       "    }\n",
       "</style>\n",
       "<table border=\"1\" class=\"dataframe\">\n",
       "  <thead>\n",
       "    <tr style=\"text-align: right;\">\n",
       "      <th></th>\n",
       "      <th>image_id</th>\n",
       "      <th>label</th>\n",
       "    </tr>\n",
       "  </thead>\n",
       "  <tbody>\n",
       "    <tr>\n",
       "      <th>0</th>\n",
       "      <td>200001.jpg</td>\n",
       "      <td>hispa</td>\n",
       "    </tr>\n",
       "    <tr>\n",
       "      <th>1</th>\n",
       "      <td>200002.jpg</td>\n",
       "      <td>normal</td>\n",
       "    </tr>\n",
       "  </tbody>\n",
       "</table>\n",
       "</div>"
      ],
      "text/plain": [
       "     image_id   label\n",
       "0  200001.jpg   hispa\n",
       "1  200002.jpg  normal"
      ]
     },
     "execution_count": 72,
     "metadata": {},
     "output_type": "execute_result"
    }
   ],
   "source": [
    "sub_df.head(2)"
   ]
  },
  {
   "cell_type": "code",
   "execution_count": 73,
   "id": "e5e8daf2-cfcd-4444-bed5-eed28b247319",
   "metadata": {},
   "outputs": [],
   "source": [
    "sub_df.to_csv('data/submission.csv', index=False)"
   ]
  },
  {
   "cell_type": "code",
   "execution_count": 74,
   "id": "99f48e24-c434-4cad-bd92-243ecda014e8",
   "metadata": {},
   "outputs": [
    {
     "name": "stdout",
     "output_type": "stream",
     "text": [
      "Warning: Your Kaggle API key is readable by other users on this system! To fix this, you can run 'chmod 600 /home/azaidi/.kaggle/kaggle.json'\n",
      "100%|██████████████████████████████████████| 70.7k/70.7k [00:00<00:00, 93.5kB/s]\n",
      "Successfully submitted to Paddy Doctor: Paddy Disease Classification"
     ]
    }
   ],
   "source": [
    "!kaggle competitions submit -c paddy-disease-classification -f data/submission.csv -m \"0.979_10ep_224px_randomsplit\""
   ]
  },
  {
   "cell_type": "markdown",
   "id": "786b27b7-292a-493d-b554-464c8da3c1c5",
   "metadata": {},
   "source": [
    "Nice! Somehow our random split of the data aligns well with LB score of: 0.97962. validation score on this run was 0.978856 in second to last epoch (it dropped in last).\n",
    "\n",
    "Something interesting to note is that when using a stratified split, the validation scores are way worse. Does this represent data leakage or maybe the LB is just also sampled via a random split? -- maybe their random split leads to leakage as well?"
   ]
  },
  {
   "cell_type": "code",
   "execution_count": null,
   "id": "9bdee2b3-a86c-47d3-957e-ff830556688f",
   "metadata": {},
   "outputs": [],
   "source": []
  }
 ],
 "metadata": {
  "kernelspec": {
   "display_name": "Python 3 (ipykernel)",
   "language": "python",
   "name": "python3"
  },
  "language_info": {
   "codemirror_mode": {
    "name": "ipython",
    "version": 3
   },
   "file_extension": ".py",
   "mimetype": "text/x-python",
   "name": "python",
   "nbconvert_exporter": "python",
   "pygments_lexer": "ipython3",
   "version": "3.8.3"
  }
 },
 "nbformat": 4,
 "nbformat_minor": 5
}
